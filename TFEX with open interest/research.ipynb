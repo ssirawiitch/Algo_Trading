{
 "cells": [
  {
   "cell_type": "markdown",
   "id": "255ce9df",
   "metadata": {},
   "source": [
    "# 📊 Research: ผลของการแตะเส้นหาร 25 ลงตัวต่อพฤติกรรมราคา TFEX\n",
    "\n",
    "## 🎯 เป้าหมาย\n",
    "\n",
    "ศึกษาว่าเมื่อราคา TFEX (เช่น SET50 Futures) **แตะเส้นที่หาร 25 ลงตัว**  \n",
    "เช่น 800, 825, 850, 875...  \n",
    "จะมีผลต่อพฤติกรรมราคาอย่างไร เช่น:\n",
    "\n",
    "- มีโอกาส **กลับตัว (Reversal)** หรือ **ทะลุไปต่อ (Breakout)** มากกว่ากัน?\n",
    "- ถ้าเกิด Breakout หรือ Reversal จะเกิดขึ้น **เมื่อไหร่ และ ใช้อะไรในการดูว่าจะกลับตัว หรือ breakout**\n",
    "\n",
    "---\n",
    "\n",
    "## ✅ Step-by-Step \n",
    "\n",
    "### 🔹 1. ตั้งนิยาม (Definition)\n",
    "\n",
    "| สิ่งที่ต้องนิยาม | ความหมายตัวอย่าง |\n",
    "|------------------|------------------|\n",
    "| เส้นสำคัญ | ราคาที่หาร 25 ลงตัว เช่น 775, 800, 825... |\n",
    "| แตะเส้น | เมื่อราคา `low <= เส้น` และ `high >= เส้น` |\n",
    "| Breakout | ภายใน X แท่ง ราคาวิ่งต่ออีก Y จุด |\n",
    "| กลับตัว | ภายใน X แท่ง ราคากลับทิศทาง ≥ Y จุด |\n",
    "| Sideway | ไม่เกิด Breakout หรือ Reversal ชัดเจน |\n",
    "\n",
    "---\n",
    "\n",
    "### 🔹 2. เตรียมข้อมูล\n",
    "\n",
    "- Historical OHLCV ของ SET50 Futures (TF: 15m หรือ 30m)\n",
    "- เก็บข้อมูลย้อนหลัง 1–3 ปี\n",
    "- (Optional) Open Interest ของ Option สำหรับวิเคราะห์เพิ่มเติม\n",
    "\n",
    "---\n",
    "\n",
    "### 🔹 3. backtesting\n",
    "\n"
   ]
  },
  {
   "cell_type": "markdown",
   "id": "067a41d5",
   "metadata": {},
   "source": [
    "### อย่างแรกเราจะมา research ว่าที่ระดับราคาหาร25ลงตัว กราฟราคาจะกลับตัว breakout กี่ %"
   ]
  },
  {
   "cell_type": "code",
   "execution_count": null,
   "id": "93ce66e2",
   "metadata": {},
   "outputs": [],
   "source": [
    "!pip install --upgrade --no-cache-dir git+https://github.com/rongardF/tvdatafeed.git"
   ]
  },
  {
   "cell_type": "code",
   "execution_count": 5,
   "id": "5071bc2f",
   "metadata": {},
   "outputs": [],
   "source": [
    "from tvDatafeed import TvDatafeed, Interval\n",
    "import pandas as pd"
   ]
  },
  {
   "cell_type": "code",
   "execution_count": 16,
   "id": "a71eb107",
   "metadata": {},
   "outputs": [
    {
     "name": "stderr",
     "output_type": "stream",
     "text": [
      "WARNING:tvDatafeed.main:you are using nologin method, data you access may be limited\n"
     ]
    },
    {
     "name": "stdout",
     "output_type": "stream",
     "text": [
      "                 time      symbol   open   high    low  close  volume\n",
      "0 2024-08-15 11:45:00  TFEX:S501!  807.2  808.2  807.0  807.9  3793.0\n",
      "1 2024-08-15 12:00:00  TFEX:S501!  807.9  808.0  807.3  807.7  2573.0\n",
      "2 2024-08-15 12:15:00  TFEX:S501!  807.8  808.6  807.7  808.1  6375.0\n",
      "3 2024-08-15 13:45:00  TFEX:S501!  808.0  809.6  807.3  807.4  8044.0\n",
      "4 2024-08-15 14:00:00  TFEX:S501!  807.3  807.9  806.5  807.1  6120.0\n"
     ]
    }
   ],
   "source": [
    "username = 'sirawitchchairuangsirikul'\n",
    "password = 'Sirawitchwill47'\n",
    "tv = TvDatafeed()\n",
    "\n",
    "# ใช้ Symbol ที่มีข้อมูล (เช่น S501!)\n",
    "# หรือจะลอง S50U25 หรือ S50Z25 (ขึ้นอยู่กับ series ที่มีข้อมูล)\n",
    "symbol = 'S501!'          # Futures ตัวแรกของ S50\n",
    "exchange = 'TFEX'\n",
    "interval = Interval.in_15_minute\n",
    "n_bars = 5000\n",
    "\n",
    "# ดึงข้อมูลจาก TradingView\n",
    "df = tv.get_hist(symbol=symbol, exchange=exchange, interval=interval, n_bars=n_bars)\n",
    "\n",
    "# ตรวจสอบว่ามีข้อมูล\n",
    "if df is not None and not df.empty:\n",
    "    # แปลง index และเปลี่ยนชื่อคอลัมน์\n",
    "    df = df.reset_index().rename(columns={\n",
    "        'datetime': 'time',\n",
    "        'open': 'open',\n",
    "        'high': 'high',\n",
    "        'low': 'low',\n",
    "        'close': 'close',\n",
    "        'volume': 'volume'\n",
    "    })\n",
    "\n",
    "    print(df.head())  # แสดงข้อมูล 5 บรรทัดแรก\n",
    "else:\n",
    "    print(\"error\")\n"
   ]
  }
 ],
 "metadata": {
  "kernelspec": {
   "display_name": "base",
   "language": "python",
   "name": "python3"
  },
  "language_info": {
   "codemirror_mode": {
    "name": "ipython",
    "version": 3
   },
   "file_extension": ".py",
   "mimetype": "text/x-python",
   "name": "python",
   "nbconvert_exporter": "python",
   "pygments_lexer": "ipython3",
   "version": "3.11.3"
  }
 },
 "nbformat": 4,
 "nbformat_minor": 5
}
