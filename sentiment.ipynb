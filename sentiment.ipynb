{
 "cells": [
  {
   "cell_type": "markdown",
   "id": "c41668a6",
   "metadata": {},
   "source": [
    "# 📊 Sentiment-Based Trading Strategy & Backtest\n",
    "\n",
    "---\n",
    "\n",
    "## 🔍 Project Overview\n",
    "\n",
    "In this notebook, we explore a **rule-based trading strategy** driven by financial news sentiment. The goal is to identify market opportunities by analyzing whether positive or negative news impacts short-term stock prices.\n",
    "\n",
    "We apply **natural language processing (NLP)** techniques to extract sentiment scores from financial news headlines and content. Based on sentiment thresholds, we generate buy/sell signals and evaluate the strategy using historical price data.\n",
    "\n",
    "This project combines concepts from:\n",
    "\n",
    "- **Natural Language Processing (NLP)**\n",
    "- **Quantitative Trading**\n",
    "- **Backtesting & Strategy Evaluation**\n",
    "\n",
    "---\n",
    "\n",
    "## 🎯 Objectives\n",
    "\n",
    "- Load and preprocess financial news data with stock tickers and timestamps\n",
    "- Apply sentiment analysis using pre-trained models (TextBlob, VADER, or Transformers)\n",
    "- Design a simple rule-based trading strategy:\n",
    "    - **Long if sentiment > 0.9**\n",
    "    - **Avoid or short if sentiment < 0.1**\n",
    "- Backtest the strategy using daily price returns\n",
    "- Evaluate performance using:\n",
    "    - **Total Return**\n",
    "    - **Sharpe Ratio**\n",
    "    - **Max Drawdown**\n",
    "    - **Win Rate** (based on 1-day, 3-day, 5-day returns after the news)\n",
    "\n",
    "---\n",
    "\n",
    "## ⚙️ Tools and Libraries\n",
    "\n",
    "- `pandas`, `numpy` for data manipulation\n",
    "- `textblob`, `vaderSentiment`, or `transformers` for sentiment scoring\n",
    "- `yfinance` for historical price data\n",
    "- `matplotlib`, `seaborn` for data visualization\n",
    "- Optional: `backtesting.py` or custom backtesting logic\n",
    "\n",
    "---\n",
    "\n",
    "## 📌 Note\n",
    "\n",
    "This is a simplified prototype model for educational purposes, developed as part of the **QuantCU Camp**. In real-world trading, more robust models and risk management techniques are required.\n",
    "\n",
    "---\n",
    "\n",
    "## 👨‍💻 Let’s get started!"
   ]
  },
  {
   "cell_type": "markdown",
   "id": "188d930d",
   "metadata": {},
   "source": [
    "###  - Install useful libraries"
   ]
  },
  {
   "cell_type": "code",
   "execution_count": 1,
   "id": "619011b2",
   "metadata": {},
   "outputs": [
    {
     "name": "stdout",
     "output_type": "stream",
     "text": [
      "Defaulting to user installation because normal site-packages is not writeable\n",
      "Requirement already satisfied: transformers in c:\\programdata\\anaconda3\\lib\\site-packages (2.1.1)\n",
      "Requirement already satisfied: pandas in c:\\programdata\\anaconda3\\lib\\site-packages (1.5.3)\n",
      "Requirement already satisfied: matplotlib in c:\\programdata\\anaconda3\\lib\\site-packages (3.7.1)\n",
      "Requirement already satisfied: seaborn in c:\\programdata\\anaconda3\\lib\\site-packages (0.12.2)\n",
      "Requirement already satisfied: scikit-learn in c:\\programdata\\anaconda3\\lib\\site-packages (1.2.2)\n",
      "Requirement already satisfied: tqdm in c:\\programdata\\anaconda3\\lib\\site-packages (4.65.0)\n",
      "Requirement already satisfied: numpy in c:\\programdata\\anaconda3\\lib\\site-packages (from transformers) (1.24.3)\n",
      "Requirement already satisfied: boto3 in c:\\programdata\\anaconda3\\lib\\site-packages (from transformers) (1.24.28)\n",
      "Requirement already satisfied: requests in c:\\users\\siraw\\appdata\\roaming\\python\\python311\\site-packages (from transformers) (2.32.3)\n",
      "Requirement already satisfied: regex in c:\\programdata\\anaconda3\\lib\\site-packages (from transformers) (2022.7.9)\n",
      "Requirement already satisfied: sentencepiece in c:\\users\\siraw\\appdata\\roaming\\python\\python311\\site-packages (from transformers) (0.2.0)\n",
      "Requirement already satisfied: sacremoses in c:\\programdata\\anaconda3\\lib\\site-packages (from transformers) (0.0.43)\n",
      "Requirement already satisfied: python-dateutil>=2.8.1 in c:\\programdata\\anaconda3\\lib\\site-packages (from pandas) (2.8.2)\n",
      "Requirement already satisfied: pytz>=2020.1 in c:\\programdata\\anaconda3\\lib\\site-packages (from pandas) (2022.7)\n",
      "Requirement already satisfied: contourpy>=1.0.1 in c:\\programdata\\anaconda3\\lib\\site-packages (from matplotlib) (1.0.5)\n",
      "Requirement already satisfied: cycler>=0.10 in c:\\programdata\\anaconda3\\lib\\site-packages (from matplotlib) (0.11.0)\n",
      "Requirement already satisfied: fonttools>=4.22.0 in c:\\programdata\\anaconda3\\lib\\site-packages (from matplotlib) (4.25.0)\n",
      "Requirement already satisfied: kiwisolver>=1.0.1 in c:\\programdata\\anaconda3\\lib\\site-packages (from matplotlib) (1.4.4)\n",
      "Requirement already satisfied: packaging>=20.0 in c:\\programdata\\anaconda3\\lib\\site-packages (from matplotlib) (23.0)\n",
      "Requirement already satisfied: pillow>=6.2.0 in c:\\programdata\\anaconda3\\lib\\site-packages (from matplotlib) (9.4.0)\n",
      "Requirement already satisfied: pyparsing>=2.3.1 in c:\\programdata\\anaconda3\\lib\\site-packages (from matplotlib) (3.0.9)\n",
      "Requirement already satisfied: scipy>=1.3.2 in c:\\programdata\\anaconda3\\lib\\site-packages (from scikit-learn) (1.10.1)\n",
      "Requirement already satisfied: joblib>=1.1.1 in c:\\programdata\\anaconda3\\lib\\site-packages (from scikit-learn) (1.2.0)\n",
      "Requirement already satisfied: threadpoolctl>=2.0.0 in c:\\programdata\\anaconda3\\lib\\site-packages (from scikit-learn) (2.2.0)\n",
      "Requirement already satisfied: colorama in c:\\programdata\\anaconda3\\lib\\site-packages (from tqdm) (0.4.6)\n",
      "Requirement already satisfied: six>=1.5 in c:\\programdata\\anaconda3\\lib\\site-packages (from python-dateutil>=2.8.1->pandas) (1.16.0)\n",
      "Requirement already satisfied: botocore<1.28.0,>=1.27.28 in c:\\programdata\\anaconda3\\lib\\site-packages (from boto3->transformers) (1.27.59)\n",
      "Requirement already satisfied: jmespath<2.0.0,>=0.7.1 in c:\\programdata\\anaconda3\\lib\\site-packages (from boto3->transformers) (0.10.0)\n",
      "Requirement already satisfied: s3transfer<0.7.0,>=0.6.0 in c:\\programdata\\anaconda3\\lib\\site-packages (from boto3->transformers) (0.6.0)\n",
      "Requirement already satisfied: charset-normalizer<4,>=2 in c:\\programdata\\anaconda3\\lib\\site-packages (from requests->transformers) (2.0.4)\n",
      "Requirement already satisfied: idna<4,>=2.5 in c:\\programdata\\anaconda3\\lib\\site-packages (from requests->transformers) (3.4)\n",
      "Requirement already satisfied: urllib3<3,>=1.21.1 in c:\\programdata\\anaconda3\\lib\\site-packages (from requests->transformers) (1.26.16)\n",
      "Requirement already satisfied: certifi>=2017.4.17 in c:\\users\\siraw\\appdata\\roaming\\python\\python311\\site-packages (from requests->transformers) (2025.4.26)\n",
      "Requirement already satisfied: click in c:\\programdata\\anaconda3\\lib\\site-packages (from sacremoses->transformers) (8.0.4)\n",
      "Note: you may need to restart the kernel to use updated packages.\n"
     ]
    }
   ],
   "source": [
    "pip install transformers pandas matplotlib seaborn scikit-learn tqdm"
   ]
  },
  {
   "cell_type": "markdown",
   "id": "9b411a48",
   "metadata": {},
   "source": [
    "### - Sentiment Analysis using OpenAI chat completion"
   ]
  },
  {
   "cell_type": "code",
   "execution_count": 3,
   "id": "5dbaa181",
   "metadata": {},
   "outputs": [
    {
     "ename": "ImportError",
     "evalue": "cannot import name 'BertForSequenceClassification' from 'transformers' (c:\\ProgramData\\anaconda3\\Lib\\site-packages\\transformers\\__init__.py)",
     "output_type": "error",
     "traceback": [
      "\u001b[1;31m---------------------------------------------------------------------------\u001b[0m",
      "\u001b[1;31mImportError\u001b[0m                               Traceback (most recent call last)",
      "Cell \u001b[1;32mIn[3], line 1\u001b[0m\n\u001b[1;32m----> 1\u001b[0m \u001b[38;5;28;01mfrom\u001b[39;00m \u001b[38;5;21;01mtransformers\u001b[39;00m \u001b[38;5;28;01mimport\u001b[39;00m BertTokenizer, BertForSequenceClassification, pipeline\n\u001b[0;32m      2\u001b[0m \u001b[38;5;28;01mimport\u001b[39;00m \u001b[38;5;21;01mpandas\u001b[39;00m \u001b[38;5;28;01mas\u001b[39;00m \u001b[38;5;21;01mpd\u001b[39;00m\n\u001b[0;32m      3\u001b[0m \u001b[38;5;28;01mimport\u001b[39;00m \u001b[38;5;21;01mtime\u001b[39;00m\n",
      "\u001b[1;31mImportError\u001b[0m: cannot import name 'BertForSequenceClassification' from 'transformers' (c:\\ProgramData\\anaconda3\\Lib\\site-packages\\transformers\\__init__.py)"
     ]
    }
   ],
   "source": [
    "from transformers import BertTokenizer, BertForSequenceClassification, pipeline\n",
    "import pandas as pd\n",
    "import time\n",
    "\n",
    "# โหลดโมเดลที่เทรนสำหรับข่าวการเงิน\n",
    "pretrained_model = 'ahmedrachid/FinancialBERT-Sentiment-Analysis'\n",
    "model = BertForSequenceClassification.from_pretrained(pretrained_model, num_labels=3)\n",
    "tokenizer = BertTokenizer.from_pretrained(pretrained_model)\n",
    "\n",
    "# เตรียม pipeline สำหรับ sentiment analysis\n",
    "nlp = pipeline(\"sentiment-analysis\", model=model, tokenizer=tokenizer)\n"
   ]
  },
  {
   "cell_type": "markdown",
   "id": "adb8225e",
   "metadata": {},
   "source": [
    "### - Prepare Data\n"
   ]
  },
  {
   "cell_type": "code",
   "execution_count": null,
   "id": "a4585e91",
   "metadata": {},
   "outputs": [],
   "source": [
    "data = {\n",
    "    'headline': [\n",
    "        \"Company A reports record profits for Q1\",\n",
    "        \"Company B faces lawsuit over product failure\",\n",
    "        \"Neutral outlook expected for Company C\"\n",
    "    ],\n",
    "    'price_before': [100, 150, 200],\n",
    "    'price_after': [110, 140, 200]\n",
    "}\n",
    "\n",
    "headlines_df = pd.DataFrame(data)"
   ]
  },
  {
   "cell_type": "markdown",
   "id": "4dfbda58",
   "metadata": {},
   "source": [
    "### - Sentiment analysis\n"
   ]
  },
  {
   "cell_type": "code",
   "execution_count": null,
   "id": "a04f5d22",
   "metadata": {},
   "outputs": [],
   "source": [
    "from tqdm import tqdm\n",
    "\n",
    "# ทำ sentiment แบบ batch (เร็วกว่า apply มาก)\n",
    "sentences = list(headlines_df['headline'])\n",
    "results = nlp(sentences, batch_size=8)\n",
    "\n",
    "# แปะผลลัพธ์ลง DataFrame\n",
    "headlines_df['sentiment'] = [r['label'] for r in results]\n"
   ]
  },
  {
   "cell_type": "markdown",
   "id": "eaa84e28",
   "metadata": {},
   "source": [
    "### - Analysis"
   ]
  },
  {
   "cell_type": "code",
   "execution_count": null,
   "id": "03abecff",
   "metadata": {},
   "outputs": [],
   "source": [
    "# สร้างคอลัมน์แสดงการเปลี่ยนแปลงของราคา\n",
    "headlines_df['price_change'] = headlines_df['price_after'] - headlines_df['price_before']\n",
    "\n",
    "# ระบุทิศทางของราคาหุ้น: ขึ้น = 1, ลง = -1, เท่าเดิม = 0\n",
    "headlines_df['price_direction'] = headlines_df['price_change'].apply(lambda x: 1 if x > 0 else (-1 if x < 0 else 0))\n",
    "\n",
    "# แปลง sentiment เป็น expected direction\n",
    "def sentiment_to_direction(sent):\n",
    "    return 1 if sent == 'Positive' else (-1 if sent == 'Negative' else 0)\n",
    "\n",
    "headlines_df['expected_direction'] = headlines_df['sentiment'].apply(sentiment_to_direction)\n"
   ]
  },
  {
   "cell_type": "markdown",
   "id": "c02c64bb",
   "metadata": {},
   "source": [
    "### - Report\n"
   ]
  },
  {
   "cell_type": "code",
   "execution_count": null,
   "id": "24e7c7c1",
   "metadata": {},
   "outputs": [],
   "source": [
    "from sklearn.metrics import classification_report, confusion_matrix\n",
    "import seaborn as sns\n",
    "import matplotlib.pyplot as plt\n",
    "\n",
    "# แสดง confusion matrix\n",
    "conf_mat = confusion_matrix(headlines_df['expected_direction'], headlines_df['price_direction'])\n",
    "sns.heatmap(conf_mat, annot=True, fmt=\"d\", xticklabels=[\"ลง\", \"เท่าเดิม\", \"ขึ้น\"], yticklabels=[\"ข่าวร้าย\", \"ข่าวเฉย\", \"ข่าวดี\"])\n",
    "plt.xlabel(\"ทิศทางราคาจริง\")\n",
    "plt.ylabel(\"จากโมเดล Sentiment\")\n",
    "plt.title(\"Confusion Matrix: Sentiment vs Real Price Movement\")\n",
    "plt.show()\n",
    "\n",
    "# รายงานประสิทธิภาพ\n",
    "print(classification_report(headlines_df['expected_direction'], headlines_df['price_direction']))\n",
    "\n"
   ]
  },
  {
   "cell_type": "code",
   "execution_count": null,
   "id": "5b427584",
   "metadata": {},
   "outputs": [],
   "source": [
    "print(headlines_df[['headline', 'sentiment', 'price_before', 'price_after', 'price_direction', 'expected_direction']])\n"
   ]
  }
 ],
 "metadata": {
  "kernelspec": {
   "display_name": "base",
   "language": "python",
   "name": "python3"
  },
  "language_info": {
   "codemirror_mode": {
    "name": "ipython",
    "version": 3
   },
   "file_extension": ".py",
   "mimetype": "text/x-python",
   "name": "python",
   "nbconvert_exporter": "python",
   "pygments_lexer": "ipython3",
   "version": "3.11.3"
  }
 },
 "nbformat": 4,
 "nbformat_minor": 5
}
