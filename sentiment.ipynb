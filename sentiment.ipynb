{
 "cells": [
  {
   "cell_type": "markdown",
   "id": "c41668a6",
   "metadata": {},
   "source": [
    "# 📊 Sentiment-Based Trading Strategy & Backtest\n",
    "\n",
    "---\n",
    "\n",
    "## 🔍 Project Overview\n",
    "\n",
    "In this notebook, we explore a **rule-based trading strategy** driven by financial news sentiment. The goal is to identify market opportunities by analyzing whether positive or negative news impacts short-term stock prices.\n",
    "\n",
    "We apply **natural language processing (NLP)** techniques to extract sentiment scores from financial news headlines and content. Based on sentiment thresholds, we generate buy/sell signals and evaluate the strategy using historical price data.\n",
    "\n",
    "This project combines concepts from:\n",
    "\n",
    "- **Natural Language Processing (NLP)**\n",
    "- **Quantitative Trading**\n",
    "- **Backtesting & Strategy Evaluation**\n",
    "\n",
    "---\n",
    "\n",
    "## 🎯 Objectives\n",
    "\n",
    "- Load and preprocess financial news data with stock tickers and timestamps\n",
    "- Apply sentiment analysis using pre-trained models (TextBlob, VADER, or Transformers)\n",
    "- Design a simple rule-based trading strategy:\n",
    "    - **Long if sentiment > 0.9**\n",
    "    - **Avoid or short if sentiment < 0.1**\n",
    "- Backtest the strategy using daily price returns\n",
    "- Evaluate performance using:\n",
    "    - **Total Return**\n",
    "    - **Sharpe Ratio**\n",
    "    - **Max Drawdown**\n",
    "    - **Win Rate** (based on 1-day, 3-day, 5-day returns after the news)\n",
    "\n",
    "---\n",
    "\n",
    "## ⚙️ Tools and Libraries\n",
    "\n",
    "- `pandas`, `numpy` for data manipulation\n",
    "- `textblob`, `vaderSentiment`, or `transformers` for sentiment scoring\n",
    "- `yfinance` for historical price data\n",
    "- `matplotlib`, `seaborn` for data visualization\n",
    "- Optional: `backtesting.py` or custom backtesting logic\n",
    "\n",
    "---\n",
    "\n",
    "## 📌 Note\n",
    "\n",
    "This is a simplified prototype model for educational purposes, developed as part of the **QuantCU Camp**. In real-world trading, more robust models and risk management techniques are required.\n",
    "\n",
    "---\n",
    "\n",
    "## 👨‍💻 Let’s get started!"
   ]
  },
  {
   "cell_type": "markdown",
   "id": "188d930d",
   "metadata": {},
   "source": [
    "###  - Install useful libraries"
   ]
  },
  {
   "cell_type": "code",
   "execution_count": null,
   "id": "619011b2",
   "metadata": {},
   "outputs": [],
   "source": [
    "pip install transformers pandas matplotlib seaborn scikit-learn tqdm"
   ]
  },
  {
   "cell_type": "markdown",
   "id": "9b411a48",
   "metadata": {},
   "source": [
    "### - Sentiment Analysis using OpenAI chat completion"
   ]
  },
  {
   "cell_type": "code",
   "execution_count": null,
   "id": "5dbaa181",
   "metadata": {},
   "outputs": [],
   "source": [
    "from transformers import BertTokenizer, BertForSequenceClassification, pipeline\n",
    "import pandas as pd\n",
    "import time\n",
    "\n",
    "# โหลดโมเดลที่เทรนสำหรับข่าวการเงิน\n",
    "pretrained_model = 'ahmedrachid/FinancialBERT-Sentiment-Analysis'\n",
    "model = BertForSequenceClassification.from_pretrained(pretrained_model, num_labels=3)\n",
    "tokenizer = BertTokenizer.from_pretrained(pretrained_model)\n",
    "\n",
    "# เตรียม pipeline สำหรับ sentiment analysis\n",
    "nlp = pipeline(\"sentiment-analysis\", model=model, tokenizer=tokenizer)\n"
   ]
  },
  {
   "cell_type": "markdown",
   "id": "adb8225e",
   "metadata": {},
   "source": [
    "### - Prepare Data\n"
   ]
  },
  {
   "cell_type": "code",
   "execution_count": null,
   "id": "a4585e91",
   "metadata": {},
   "outputs": [],
   "source": [
    "data = {\n",
    "    'headline': [\n",
    "        \"Company A reports record profits for Q1\",\n",
    "        \"Company B faces lawsuit over product failure\",\n",
    "        \"Neutral outlook expected for Company C\"\n",
    "    ],\n",
    "    'price_before': [100, 150, 200],\n",
    "    'price_after': [110, 140, 200]\n",
    "}\n",
    "\n",
    "headlines_df = pd.DataFrame(data)"
   ]
  },
  {
   "cell_type": "markdown",
   "id": "4dfbda58",
   "metadata": {},
   "source": [
    "### - Sentiment analysis\n"
   ]
  },
  {
   "cell_type": "code",
   "execution_count": null,
   "id": "a04f5d22",
   "metadata": {},
   "outputs": [],
   "source": [
    "from tqdm import tqdm\n",
    "\n",
    "# ทำ sentiment แบบ batch (เร็วกว่า apply มาก)\n",
    "sentences = list(headlines_df['headline'])\n",
    "results = nlp(sentences, batch_size=8)\n",
    "\n",
    "# แปะผลลัพธ์ลง DataFrame\n",
    "headlines_df['sentiment'] = [r['label'] for r in results]\n"
   ]
  },
  {
   "cell_type": "markdown",
   "id": "eaa84e28",
   "metadata": {},
   "source": [
    "### - Analysis"
   ]
  },
  {
   "cell_type": "code",
   "execution_count": null,
   "id": "03abecff",
   "metadata": {},
   "outputs": [],
   "source": [
    "# สร้างคอลัมน์แสดงการเปลี่ยนแปลงของราคา\n",
    "headlines_df['price_change'] = headlines_df['price_after'] - headlines_df['price_before']\n",
    "\n",
    "# ระบุทิศทางของราคาหุ้น: ขึ้น = 1, ลง = -1, เท่าเดิม = 0\n",
    "headlines_df['price_direction'] = headlines_df['price_change'].apply(lambda x: 1 if x > 0 else (-1 if x < 0 else 0))\n",
    "\n",
    "# แปลง sentiment เป็น expected direction\n",
    "def sentiment_to_direction(sent):\n",
    "    return 1 if sent == 'Positive' else (-1 if sent == 'Negative' else 0)\n",
    "\n",
    "headlines_df['expected_direction'] = headlines_df['sentiment'].apply(sentiment_to_direction)\n"
   ]
  },
  {
   "cell_type": "markdown",
   "id": "c02c64bb",
   "metadata": {},
   "source": [
    "### - Report\n"
   ]
  },
  {
   "cell_type": "code",
   "execution_count": null,
   "id": "24e7c7c1",
   "metadata": {},
   "outputs": [],
   "source": [
    "from sklearn.metrics import classification_report, confusion_matrix\n",
    "import seaborn as sns\n",
    "import matplotlib.pyplot as plt\n",
    "\n",
    "# แสดง confusion matrix\n",
    "conf_mat = confusion_matrix(headlines_df['expected_direction'], headlines_df['price_direction'])\n",
    "sns.heatmap(conf_mat, annot=True, fmt=\"d\", xticklabels=[\"ลง\", \"เท่าเดิม\", \"ขึ้น\"], yticklabels=[\"ข่าวร้าย\", \"ข่าวเฉย\", \"ข่าวดี\"])\n",
    "plt.xlabel(\"ทิศทางราคาจริง\")\n",
    "plt.ylabel(\"จากโมเดล Sentiment\")\n",
    "plt.title(\"Confusion Matrix: Sentiment vs Real Price Movement\")\n",
    "plt.show()\n",
    "\n",
    "# รายงานประสิทธิภาพ\n",
    "print(classification_report(headlines_df['expected_direction'], headlines_df['price_direction']))\n",
    "\n"
   ]
  },
  {
   "cell_type": "code",
   "execution_count": null,
   "id": "5b427584",
   "metadata": {},
   "outputs": [],
   "source": [
    "print(headlines_df[['headline', 'sentiment', 'price_before', 'price_after', 'price_direction', 'expected_direction']])"
   ]
  }
 ],
 "metadata": {
  "kernelspec": {
   "display_name": "base",
   "language": "python",
   "name": "python3"
  },
  "language_info": {
   "codemirror_mode": {
    "name": "ipython",
    "version": 3
   },
   "file_extension": ".py",
   "mimetype": "text/x-python",
   "name": "python",
   "nbconvert_exporter": "python",
   "pygments_lexer": "ipython3",
   "version": "3.11.3"
  }
 },
 "nbformat": 4,
 "nbformat_minor": 5
}
